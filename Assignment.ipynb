{
 "cells": [
  {
   "cell_type": "markdown",
   "id": "71825c84-08e2-4d03-bb29-53d7be5d246f",
   "metadata": {},
   "source": [
    "2.Describe the role of predefined keywords in Python and provide examples of how they are used in a program"
   ]
  },
  {
   "cell_type": "code",
   "execution_count": 1,
   "id": "71e6b8b0-0dcd-4382-904c-f06fd366d477",
   "metadata": {},
   "outputs": [
    {
     "name": "stdin",
     "output_type": "stream",
     "text": [
      "Enter the last semester CGP  8\n"
     ]
    },
    {
     "name": "stdout",
     "output_type": "stream",
     "text": [
      "average\n"
     ]
    }
   ],
   "source": [
    "# use of IF, Elif, Else\n",
    "a=int(input(\"Enter the last semester CGP \"))\n",
    "if a<= 5:\n",
    "    print(\"you need to Improve\")\n",
    "elif (a>5 and a<=8):\n",
    "    print(\"average\")\n",
    "else:\n",
    "    print(\"excellent\")"
   ]
  },
  {
   "cell_type": "code",
   "execution_count": 2,
   "id": "2033d119-ea65-41e0-afc5-95690d247c29",
   "metadata": {},
   "outputs": [
    {
     "name": "stdout",
     "output_type": "stream",
     "text": [
      "*\n",
      "**\n",
      "***\n",
      "****\n",
      "*****\n"
     ]
    }
   ],
   "source": [
    "# for loop\n",
    "for i in range (5):\n",
    "    for j in range(i+1):\n",
    "        print(\"*\",end=\"\")\n",
    "    print()"
   ]
  },
  {
   "cell_type": "code",
   "execution_count": 7,
   "id": "677f0bbb-6357-4ec6-a0ee-03ef37467bae",
   "metadata": {},
   "outputs": [
    {
     "name": "stdout",
     "output_type": "stream",
     "text": [
      "7 * 1 = 7\n",
      "7 * 2 = 14\n",
      "7 * 3 = 21\n",
      "7 * 4 = 28\n",
      "7 * 5 = 35\n",
      "7 * 6 = 42\n",
      "7 * 7 = 49\n",
      "7 * 8 = 56\n",
      "7 * 9 = 63\n",
      "7 * 10 = 70\n"
     ]
    }
   ],
   "source": [
    "for i in range(1,11):\n",
    "    print(\"7\", \"*\", i, \"=\", 7*i)"
   ]
  },
  {
   "cell_type": "code",
   "execution_count": 1,
   "id": "43ff65d2-83c1-411c-8ae6-21107ee7b03c",
   "metadata": {},
   "outputs": [
    {
     "name": "stdout",
     "output_type": "stream",
     "text": [
      "1\n",
      "2\n",
      "3\n",
      "4\n",
      "5\n",
      "6\n",
      "7\n",
      "8\n",
      "9\n",
      "10\n",
      "11\n",
      "12\n"
     ]
    }
   ],
   "source": [
    "# while loop\n",
    "n=12\n",
    "i=1\n",
    "while i<=n:\n",
    "    print(i)\n",
    "    i+=1"
   ]
  },
  {
   "cell_type": "markdown",
   "id": "4090ffd7-826d-4c09-842b-9acd714297ca",
   "metadata": {},
   "source": [
    "3. Compare and contrast mutable and immutable objects in Python with examples\n"
   ]
  },
  {
   "cell_type": "code",
   "execution_count": 9,
   "id": "58b39381-11c9-4518-ac83-1d664b6fe5e9",
   "metadata": {},
   "outputs": [
    {
     "name": "stdout",
     "output_type": "stream",
     "text": [
      "[12, 23, 45, 'md', 'jk']\n"
     ]
    }
   ],
   "source": [
    "#muttable\n",
    "a=[12,23,45,\"md\",\"puja\"]\n",
    "a[4]= \"jk\"\n",
    "print(a)"
   ]
  },
  {
   "cell_type": "code",
   "execution_count": 10,
   "id": "a0b7b433-18a3-4d2e-b7b2-914e78ae819c",
   "metadata": {},
   "outputs": [
    {
     "name": "stdout",
     "output_type": "stream",
     "text": [
      "Hello\n",
      "Jello\n"
     ]
    }
   ],
   "source": [
    "#Immutable\n",
    "my_string = \"Hello\"\n",
    "new_string = my_string.replace(\"H\", \"J\")\n",
    "print(my_string)  # Output: \"Hello\" (original string is unchanged)\n",
    "print(new_string) # Output: \"Jello\" (a new string is created)\n"
   ]
  },
  {
   "cell_type": "markdown",
   "id": "ec275f83-758a-40bd-abe7-ecc97a2c4292",
   "metadata": {},
   "source": [
    "4.Discuss the different types of operators in Python and provide examples of how they are used?\n"
   ]
  },
  {
   "cell_type": "markdown",
   "id": "686f519d-72a5-4e64-bfcb-9a7500c28108",
   "metadata": {},
   "source": [
    "Arithmetic Operators"
   ]
  },
  {
   "cell_type": "code",
   "execution_count": 34,
   "id": "3e75fbcd-2244-4951-bd23-100647d6873e",
   "metadata": {},
   "outputs": [
    {
     "data": {
      "text/plain": [
       "9"
      ]
     },
     "execution_count": 34,
     "metadata": {},
     "output_type": "execute_result"
    }
   ],
   "source": [
    "a=4\n",
    "b=5\n",
    "a+b"
   ]
  },
  {
   "cell_type": "code",
   "execution_count": 35,
   "id": "2a98428c-1e69-4508-b372-ddbb9159d40f",
   "metadata": {},
   "outputs": [
    {
     "data": {
      "text/plain": [
       "-1"
      ]
     },
     "execution_count": 35,
     "metadata": {},
     "output_type": "execute_result"
    }
   ],
   "source": [
    "a-b"
   ]
  },
  {
   "cell_type": "code",
   "execution_count": 36,
   "id": "7ba80a09-865f-482f-b0b8-ced1772b7db1",
   "metadata": {},
   "outputs": [
    {
     "data": {
      "text/plain": [
       "20"
      ]
     },
     "execution_count": 36,
     "metadata": {},
     "output_type": "execute_result"
    }
   ],
   "source": [
    "a*b"
   ]
  },
  {
   "cell_type": "code",
   "execution_count": 37,
   "id": "849cc2cd-e7de-4d62-b3d4-2d841ee4b9e6",
   "metadata": {},
   "outputs": [
    {
     "data": {
      "text/plain": [
       "0.8"
      ]
     },
     "execution_count": 37,
     "metadata": {},
     "output_type": "execute_result"
    }
   ],
   "source": [
    "a/b"
   ]
  },
  {
   "cell_type": "code",
   "execution_count": 38,
   "id": "47a6d09a-3ce0-4a16-9fb1-05294863e36f",
   "metadata": {},
   "outputs": [
    {
     "data": {
      "text/plain": [
       "0"
      ]
     },
     "execution_count": 38,
     "metadata": {},
     "output_type": "execute_result"
    }
   ],
   "source": [
    "a//b"
   ]
  },
  {
   "cell_type": "code",
   "execution_count": 39,
   "id": "4a4a0da3-f5fd-4089-ab1d-8874c22e2498",
   "metadata": {},
   "outputs": [
    {
     "data": {
      "text/plain": [
       "4"
      ]
     },
     "execution_count": 39,
     "metadata": {},
     "output_type": "execute_result"
    }
   ],
   "source": [
    "a%b"
   ]
  },
  {
   "cell_type": "markdown",
   "id": "0159f5e7-4854-401f-a660-b825893c8844",
   "metadata": {},
   "source": [
    "Comparison (Relational) Operators"
   ]
  },
  {
   "cell_type": "code",
   "execution_count": 40,
   "id": "657212af-cbab-48f6-abe1-f3129ca8d316",
   "metadata": {},
   "outputs": [
    {
     "name": "stdout",
     "output_type": "stream",
     "text": [
      "False\n"
     ]
    }
   ],
   "source": [
    "print(a==b)"
   ]
  },
  {
   "cell_type": "code",
   "execution_count": 42,
   "id": "95b3e43c-270d-4de9-80b8-bfd2ee2c8125",
   "metadata": {},
   "outputs": [
    {
     "name": "stdout",
     "output_type": "stream",
     "text": [
      "True\n"
     ]
    }
   ],
   "source": [
    "print(a!=b)"
   ]
  },
  {
   "cell_type": "code",
   "execution_count": 43,
   "id": "76f52d2e-e816-4090-a263-7174e6c29db0",
   "metadata": {},
   "outputs": [
    {
     "name": "stdout",
     "output_type": "stream",
     "text": [
      "False\n"
     ]
    }
   ],
   "source": [
    "print(a>b)"
   ]
  },
  {
   "cell_type": "code",
   "execution_count": 44,
   "id": "26b3a351-5104-4d50-a33b-25fd1e589a9b",
   "metadata": {},
   "outputs": [
    {
     "name": "stdout",
     "output_type": "stream",
     "text": [
      "True\n"
     ]
    }
   ],
   "source": [
    "print(a<b)"
   ]
  },
  {
   "cell_type": "markdown",
   "id": "b549314a-86f5-4e4a-b0fe-73b565f1e381",
   "metadata": {},
   "source": [
    "Assignment Operators"
   ]
  },
  {
   "cell_type": "code",
   "execution_count": 50,
   "id": "98a9c4b3-b044-4627-adb2-53d73d6e91f2",
   "metadata": {},
   "outputs": [
    {
     "name": "stdout",
     "output_type": "stream",
     "text": [
      "7\n"
     ]
    }
   ],
   "source": [
    "c=4\n",
    "c+=3\n",
    "print(c)"
   ]
  },
  {
   "cell_type": "code",
   "execution_count": 51,
   "id": "6feabf28-67fb-4295-985c-d8cdf6478b1d",
   "metadata": {},
   "outputs": [
    {
     "name": "stdout",
     "output_type": "stream",
     "text": [
      "5\n"
     ]
    }
   ],
   "source": [
    "c-=2\n",
    "print(c)"
   ]
  },
  {
   "cell_type": "code",
   "execution_count": 52,
   "id": "3a3295c3-93c4-42c7-a655-3de958751a62",
   "metadata": {},
   "outputs": [
    {
     "name": "stdout",
     "output_type": "stream",
     "text": [
      "15\n"
     ]
    }
   ],
   "source": [
    "c*=3\n",
    "print(c)"
   ]
  },
  {
   "cell_type": "code",
   "execution_count": 53,
   "id": "c7154d78-bfe4-4710-94b6-ab2979855ca4",
   "metadata": {},
   "outputs": [
    {
     "name": "stdout",
     "output_type": "stream",
     "text": [
      "50625\n"
     ]
    }
   ],
   "source": [
    "c**=4\n",
    "print(c)"
   ]
  },
  {
   "cell_type": "markdown",
   "id": "938c0f44-fa53-4772-8252-0daea14ad1dc",
   "metadata": {},
   "source": [
    "Logical Operators"
   ]
  },
  {
   "cell_type": "code",
   "execution_count": 54,
   "id": "303acf91-9bd8-47f2-95bd-23b802532a61",
   "metadata": {},
   "outputs": [
    {
     "name": "stdout",
     "output_type": "stream",
     "text": [
      "False\n"
     ]
    }
   ],
   "source": [
    "print(a>b and a<b)"
   ]
  },
  {
   "cell_type": "code",
   "execution_count": 56,
   "id": "a76f32b2-ebf1-44b9-a8aa-c49c0302270c",
   "metadata": {},
   "outputs": [
    {
     "name": "stdout",
     "output_type": "stream",
     "text": [
      "False\n"
     ]
    }
   ],
   "source": [
    "print(a==b or a>b)"
   ]
  },
  {
   "cell_type": "code",
   "execution_count": 57,
   "id": "154f6674-3802-4c3e-a644-adeedc7f3706",
   "metadata": {},
   "outputs": [
    {
     "name": "stdout",
     "output_type": "stream",
     "text": [
      "True\n"
     ]
    }
   ],
   "source": [
    "print(not(a>b))\n"
   ]
  },
  {
   "cell_type": "markdown",
   "id": "984edd6b-6f20-409a-888d-e288615d159a",
   "metadata": {},
   "source": [
    "Bitwise Operators"
   ]
  },
  {
   "cell_type": "code",
   "execution_count": 58,
   "id": "b4a8ac70-6436-4a46-bf1d-bdc3c0f70fa7",
   "metadata": {},
   "outputs": [
    {
     "name": "stdout",
     "output_type": "stream",
     "text": [
      "4\n"
     ]
    }
   ],
   "source": [
    "print(a&b)"
   ]
  },
  {
   "cell_type": "code",
   "execution_count": 59,
   "id": "a56b06a9-5a8c-457c-b98f-779a6dde47e7",
   "metadata": {},
   "outputs": [
    {
     "name": "stdout",
     "output_type": "stream",
     "text": [
      "5\n"
     ]
    }
   ],
   "source": [
    "print(a|b)"
   ]
  },
  {
   "cell_type": "code",
   "execution_count": 60,
   "id": "d46694f2-5301-4996-8c80-8afab9010a1a",
   "metadata": {},
   "outputs": [
    {
     "name": "stdout",
     "output_type": "stream",
     "text": [
      "1\n"
     ]
    }
   ],
   "source": [
    "print(a^b)"
   ]
  },
  {
   "cell_type": "code",
   "execution_count": 61,
   "id": "12889c68-771d-475b-b7e7-80ddee53df6b",
   "metadata": {},
   "outputs": [
    {
     "name": "stdout",
     "output_type": "stream",
     "text": [
      "32\n"
     ]
    }
   ],
   "source": [
    "print(a<<3)"
   ]
  },
  {
   "cell_type": "code",
   "execution_count": 62,
   "id": "306e79e6-8400-446e-beac-f56b31c9110e",
   "metadata": {},
   "outputs": [
    {
     "name": "stdout",
     "output_type": "stream",
     "text": [
      "0\n"
     ]
    }
   ],
   "source": [
    "print(a>>b)"
   ]
  },
  {
   "cell_type": "markdown",
   "id": "a49045a2-b2dd-4b02-8442-85dd7a042beb",
   "metadata": {},
   "source": [
    "Membership Operators"
   ]
  },
  {
   "cell_type": "code",
   "execution_count": 63,
   "id": "0b032ec6-358c-455b-8394-3732ca0efe3f",
   "metadata": {},
   "outputs": [
    {
     "data": {
      "text/plain": [
       "True"
      ]
     },
     "execution_count": 63,
     "metadata": {},
     "output_type": "execute_result"
    }
   ],
   "source": [
    "a=[12,23,45,75,444,546]\n",
    "12 in a"
   ]
  },
  {
   "cell_type": "code",
   "execution_count": 64,
   "id": "4f938f99-336b-40b7-a8bc-599836a3c4a3",
   "metadata": {},
   "outputs": [
    {
     "name": "stdout",
     "output_type": "stream",
     "text": [
      "False\n"
     ]
    }
   ],
   "source": [
    "print(24 in a)"
   ]
  },
  {
   "cell_type": "code",
   "execution_count": 65,
   "id": "f315e76d-6a8e-4bda-956e-2a0dbebd1988",
   "metadata": {},
   "outputs": [
    {
     "name": "stdout",
     "output_type": "stream",
     "text": [
      "True\n"
     ]
    }
   ],
   "source": [
    "print(65 not in a )"
   ]
  },
  {
   "cell_type": "markdown",
   "id": "201aebde-914e-4594-84f0-ff6d7bfca94e",
   "metadata": {},
   "source": [
    "Identity Operators"
   ]
  },
  {
   "cell_type": "code",
   "execution_count": 67,
   "id": "7d2b3075-d29d-483d-9d15-5da9f3a203dd",
   "metadata": {},
   "outputs": [
    {
     "name": "stdout",
     "output_type": "stream",
     "text": [
      "True\n"
     ]
    }
   ],
   "source": [
    "a = 23\n",
    "b= 23\n",
    "print(a is b)"
   ]
  },
  {
   "cell_type": "code",
   "execution_count": 68,
   "id": "2cc14306-63b2-48a6-9d47-849754b3569a",
   "metadata": {},
   "outputs": [
    {
     "name": "stdout",
     "output_type": "stream",
     "text": [
      "False\n"
     ]
    }
   ],
   "source": [
    "print (a is not b)"
   ]
  },
  {
   "cell_type": "markdown",
   "id": "e6409378-6dc6-4bb8-90b7-e22b4485a825",
   "metadata": {},
   "source": [
    "5. Explain the concept of type casting in Python with an example?\n"
   ]
  },
  {
   "cell_type": "code",
   "execution_count": 69,
   "id": "7e881f7d-24c7-403f-a3f0-e070e7960184",
   "metadata": {},
   "outputs": [
    {
     "name": "stdout",
     "output_type": "stream",
     "text": [
      "42\n"
     ]
    }
   ],
   "source": [
    "str_number = \"42\"\n",
    "int_number = int(str_number)  # Convert string to integer\n",
    "print(int_number)  \n"
   ]
  },
  {
   "cell_type": "code",
   "execution_count": 70,
   "id": "64b4b5e8-45a7-4d55-b60a-ed03996e4b9e",
   "metadata": {},
   "outputs": [
    {
     "name": "stdout",
     "output_type": "stream",
     "text": [
      "10.0\n"
     ]
    }
   ],
   "source": [
    "int_value = 10\n",
    "float_value = float(int_value)  # Convert integer to float\n",
    "print(float_value)  "
   ]
  },
  {
   "cell_type": "code",
   "execution_count": 71,
   "id": "e7140283-4956-473e-bfe8-f1afeb111ada",
   "metadata": {},
   "outputs": [
    {
     "name": "stdout",
     "output_type": "stream",
     "text": [
      "The value is 3.14\n"
     ]
    }
   ],
   "source": [
    "float_number = 3.14\n",
    "str_number = str(float_number)  # Convert float to string\n",
    "print(\"The value is \" + str_number)  "
   ]
  },
  {
   "cell_type": "code",
   "execution_count": 72,
   "id": "db9a59d3-3169-413e-a909-e1a9fbb9fa2f",
   "metadata": {},
   "outputs": [
    {
     "name": "stdout",
     "output_type": "stream",
     "text": [
      "(1, 2, 3)\n"
     ]
    }
   ],
   "source": [
    "my_list = [1, 2, 3]\n",
    "my_tuple = tuple(my_list)  # Convert list to tuple\n",
    "print(my_tuple)  \n"
   ]
  },
  {
   "cell_type": "code",
   "execution_count": 74,
   "id": "6d8811ec-d77d-4b3b-ad3b-5a7611d51180",
   "metadata": {},
   "outputs": [
    {
     "name": "stdout",
     "output_type": "stream",
     "text": [
      "{1, 2, 3}\n"
     ]
    }
   ],
   "source": [
    "my_tuple = (1, 2, 2, 3)\n",
    "my_set = set(my_tuple)  # Convert tuple to set\n",
    "print(my_set)  "
   ]
  },
  {
   "cell_type": "code",
   "execution_count": 75,
   "id": "75cd7880-3c0d-4802-9e56-dbb0e59e4b6a",
   "metadata": {},
   "outputs": [
    {
     "name": "stdout",
     "output_type": "stream",
     "text": [
      "1\n"
     ]
    }
   ],
   "source": [
    "bool_value = True\n",
    "int_value = int(bool_value)  # Convert boolean to integer\n",
    "print(int_value) \n"
   ]
  },
  {
   "cell_type": "markdown",
   "id": "c3f49ed0-c572-4843-999b-f0f4650fd9da",
   "metadata": {},
   "source": [
    "6.How do conditional statements work in Python? Illustrate with examples?\n"
   ]
  },
  {
   "cell_type": "code",
   "execution_count": 77,
   "id": "cecdfa8c-cfb6-4767-a9d2-839d05cce065",
   "metadata": {},
   "outputs": [
    {
     "name": "stdin",
     "output_type": "stream",
     "text": [
      "Enter the last semester CGP  9\n"
     ]
    },
    {
     "name": "stdout",
     "output_type": "stream",
     "text": [
      "excellent\n"
     ]
    }
   ],
   "source": [
    "#use of IF, Elif, Else\n",
    "a=int(input(\"Enter the last semester CGP \"))\n",
    "if a<= 5:\n",
    "    print(\"you need to Improve\")\n",
    "elif (a>5 and a<=8):\n",
    "    print(\"average\")\n",
    "else:\n",
    "    print(\"excellent\")"
   ]
  },
  {
   "cell_type": "markdown",
   "id": "ed80422b-7263-4cd5-8d0d-90ea08b73609",
   "metadata": {},
   "source": [
    "7.Describe the different types of loops in Python and their use cases with examples.\n"
   ]
  },
  {
   "cell_type": "code",
   "execution_count": 78,
   "id": "30dd10b5-962a-484c-a10a-c6517c67b625",
   "metadata": {},
   "outputs": [
    {
     "name": "stdout",
     "output_type": "stream",
     "text": [
      "apple\n",
      "banana\n",
      "cherry\n"
     ]
    }
   ],
   "source": [
    "fruits = [\"apple\", \"banana\", \"cherry\"]\n",
    "for fruit in fruits:\n",
    "    print(fruit)\n"
   ]
  },
  {
   "cell_type": "code",
   "execution_count": 79,
   "id": "1eda8efa-035b-4c0f-9b22-b97ddcb5c745",
   "metadata": {},
   "outputs": [
    {
     "name": "stdout",
     "output_type": "stream",
     "text": [
      "0\n",
      "1\n",
      "2\n",
      "3\n",
      "4\n"
     ]
    }
   ],
   "source": [
    "for i in range(5):\n",
    "    print(i)\n"
   ]
  },
  {
   "cell_type": "code",
   "execution_count": 80,
   "id": "7306850e-7f72-4009-a817-ea602fba4282",
   "metadata": {},
   "outputs": [
    {
     "name": "stdout",
     "output_type": "stream",
     "text": [
      "*\n",
      "**\n",
      "***\n",
      "****\n",
      "*****\n"
     ]
    }
   ],
   "source": [
    "for i in range (5):\n",
    "    for j in range(i+1):\n",
    "        print(\"*\",end=\"\")\n",
    "    print()"
   ]
  },
  {
   "cell_type": "code",
   "execution_count": 81,
   "id": "eca4ca7f-2d03-4c89-8ed7-48d2e5d10402",
   "metadata": {},
   "outputs": [
    {
     "name": "stdout",
     "output_type": "stream",
     "text": [
      "0\n",
      "1\n",
      "2\n",
      "3\n",
      "4\n"
     ]
    }
   ],
   "source": [
    "count = 0\n",
    "while count < 5:\n",
    "    print(count)\n",
    "    count += 1\n"
   ]
  },
  {
   "cell_type": "code",
   "execution_count": 82,
   "id": "0fe2bcd0-09ac-48a0-87bc-7f7a5ffe328f",
   "metadata": {},
   "outputs": [
    {
     "name": "stdin",
     "output_type": "stream",
     "text": [
      "Type 'quit' to exit:  3\n"
     ]
    },
    {
     "name": "stdout",
     "output_type": "stream",
     "text": [
      "You typed: 3\n"
     ]
    },
    {
     "name": "stdin",
     "output_type": "stream",
     "text": [
      "Type 'quit' to exit:  quit\n"
     ]
    },
    {
     "name": "stdout",
     "output_type": "stream",
     "text": [
      "You typed: quit\n"
     ]
    }
   ],
   "source": [
    "user_input = \"\"\n",
    "while user_input != \"quit\":\n",
    "    user_input = input(\"Type 'quit' to exit: \")\n",
    "    print(\"You typed:\", user_input)\n"
   ]
  },
  {
   "cell_type": "code",
   "execution_count": null,
   "id": "14e184ab-713e-417d-8bd2-ff5a5e778cf9",
   "metadata": {},
   "outputs": [],
   "source": []
  }
 ],
 "metadata": {
  "kernelspec": {
   "display_name": "Python 3 (ipykernel)",
   "language": "python",
   "name": "python3"
  },
  "language_info": {
   "codemirror_mode": {
    "name": "ipython",
    "version": 3
   },
   "file_extension": ".py",
   "mimetype": "text/x-python",
   "name": "python",
   "nbconvert_exporter": "python",
   "pygments_lexer": "ipython3",
   "version": "3.10.8"
  }
 },
 "nbformat": 4,
 "nbformat_minor": 5
}
